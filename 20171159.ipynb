{
 "cells": [
  {
   "cell_type": "markdown",
   "metadata": {
    "editable": false
   },
   "source": [
    "# Assignment 1\n",
    "This jupyter notebook is meant to be used in conjunction with the full questions in the assignment pdf.\n",
    "\n",
    "## Instructions\n",
    "- Write your code and analyses in the indicated cells.\n",
    "- Ensure that this notebook runs without errors when the cells are run in sequence.\n",
    "- Do not attempt to change the contents of the other cells.\n",
    "\n",
    "## Submission\n",
    "- Ensure that this notebook runs without errors when the cells are run in sequence.\n",
    "- Rename the notebook to `<roll_number>.ipynb` and submit ONLY the notebook file on moodle."
   ]
  },
  {
   "cell_type": "markdown",
   "metadata": {
    "editable": false
   },
   "source": [
    "### Environment setup\n",
    "\n",
    "The following code reads the train and test data (provided along with this template) and outputs the data and labels as numpy arrays. Use these variables in your code.\n",
    "\n",
    "---\n",
    "#### Note on conventions\n",
    "In mathematical notation, the convention is tha data matrices are column-indexed, which means that a input data $x$ has shape $[d, n]$, where $d$ is the number of dimensions and $n$ is the number of data points, respectively.\n",
    "\n",
    "Programming languages have a slightly different convention. Data matrices are of shape $[n, d]$. This has the benefit of being able to access the ith data point as a simple `data[i]`.\n",
    "\n",
    "What this means is that you need to be careful about your handling of matrix dimensions. For example, while the covariance matrix (of shape $[d,d]$) for input data $x$ is calculated as $(x-u)(x-u)^T$, while programming you would do $(x-u)^T(x-u)$ to get the correct output shapes."
   ]
  },
  {
   "cell_type": "code",
   "execution_count": 11,
   "metadata": {
    "editable": false,
    "scrolled": true
   },
   "outputs": [
    {
     "name": "stdout",
     "output_type": "stream",
     "text": [
      "(6000, 784) (1000, 784)\n",
      "(6000,) (1000,)\n"
     ]
    }
   ],
   "source": [
    "from __future__ import print_function\n",
    "\n",
    "import numpy as np\n",
    "import matplotlib.pyplot as plt\n",
    "\n",
    "def read_data(filename):\n",
    "    with open(filename, 'r') as f:\n",
    "        lines = f.readlines()\n",
    "    \n",
    "    num_points = len(lines)\n",
    "    dim_points = 28 * 28\n",
    "    data = np.empty((num_points, dim_points))\n",
    "    labels = np.empty(num_points)\n",
    "    \n",
    "    for ind, line in enumerate(lines):\n",
    "        num = line.split(',')\n",
    "        labels[ind] = int(num[0])\n",
    "        data[ind] = [ int(x) for x in num[1:] ]\n",
    "        \n",
    "    return (data, labels)\n",
    "\n",
    "train_data, train_labels = read_data(\"sample_train.csv\")\n",
    "test_data, test_labels = read_data(\"sample_test.csv\")\n",
    "print(train_data.shape, test_data.shape)\n",
    "print(train_labels.shape, test_labels.shape)"
   ]
  },
  {
   "cell_type": "markdown",
   "metadata": {
    "editable": false
   },
   "source": [
    "# Questions\n",
    "---\n",
    "## 1.3.1 Representation\n",
    "The next code cells, when run, should plot the eigen value spectrum of the covariance matrices corresponding to the mentioned samples. Normalize the eigen value spectrum and only show the first 100 values."
   ]
  },
  {
   "cell_type": "code",
   "execution_count": 12,
   "metadata": {},
   "outputs": [
    {
     "data": {
      "text/plain": [
       "[<matplotlib.lines.Line2D at 0x7fd2c73fa5c0>]"
      ]
     },
     "execution_count": 12,
     "metadata": {},
     "output_type": "execute_result"
    },
    {
     "data": {
      "image/png": "[encoded data removed]",
      "text/plain": [
       "<Figure size 432x288 with 1 Axes>"
      ]
     },
     "metadata": {
      "needs_background": "light"
     },
     "output_type": "display_data"
    }
   ],
   "source": [
    "# Samples corresponding to the last digit of your roll number - 9(plot a)\n",
    "from numpy import linalg as LA\n",
    "\n",
    "cov9 = []\n",
    "for i in range(len(train_labels)):\n",
    "    if train_labels[i] == 9:\n",
    "        cov9.append(train_data[i])\n",
    "\n",
    "cov9 = np.cov(cov9, rowvar=False)\n",
    "eigval, eigvec = LA.eig(cov9)\n",
    "norm_eig = eigval.real/LA.norm(eigval)\n",
    "plt.plot(norm_eig[0:100],'gx')"
   ]
  },
  {
   "cell_type": "code",
   "execution_count": 13,
   "metadata": {},
   "outputs": [
    {
     "data": {
      "text/plain": [
       "[<matplotlib.lines.Line2D at 0x7fd2c733c630>]"
      ]
     },
     "execution_count": 13,
     "metadata": {},
     "output_type": "execute_result"
    },
    {
     "data": {
      "image/png": "[encoded data removed]",
      "text/plain": [
       "<Figure size 432x288 with 1 Axes>"
      ]
     },
     "metadata": {
      "needs_background": "light"
     },
     "output_type": "display_data"
    }
   ],
   "source": [
    "# Samples corresponding to the last digit of (your roll number + 1) % 10 (plot b)\n",
    "cov_friend = []\n",
    "for i in range(len(train_labels)):\n",
    "    if train_labels[i] == 2:\n",
    "        cov_friend.append(train_data[i])\n",
    "cov_friend = np.cov(cov_friend, rowvar=False)\n",
    "eigval, eigvec = LA.eig(cov_friend)\n",
    "norm_eig = eigval.real/LA.norm(eigval)\n",
    "plt.plot(norm_eig[0:100],'rx')\n",
    "\n",
    "# print (cov_friend)"
   ]
  },
  {
   "cell_type": "code",
   "execution_count": 14,
   "metadata": {},
   "outputs": [
    {
     "data": {
      "text/plain": [
       "[<matplotlib.lines.Line2D at 0x7fd2c72f8748>]"
      ]
     },
     "execution_count": 14,
     "metadata": {},
     "output_type": "execute_result"
    },
    {
     "data": {
      "image/png": "[encoded data removed]",
      "text/plain": [
       "<Figure size 432x288 with 1 Axes>"
      ]
     },
     "metadata": {
      "needs_background": "light"
     },
     "output_type": "display_data"
    }
   ],
   "source": [
    "# All training data (plot c)\n",
    "cov_total = np.cov(train_data, rowvar=False)\n",
    "eigval, eigvec = LA.eig(cov_total)\n",
    "norm_eig = eigval.real/LA.norm(eigval)\n",
    "plt.plot(norm_eig[0:100],'yx')"
   ]
  },
  {
   "cell_type": "code",
   "execution_count": 15,
   "metadata": {},
   "outputs": [
    {
     "data": {
      "text/plain": [
       "[<matplotlib.lines.Line2D at 0x7fd2c72632e8>]"
      ]
     },
     "execution_count": 15,
     "metadata": {},
     "output_type": "execute_result"
    },
    {
     "data": {
      "image/png": "[encoded data removed]",
      "text/plain": [
       "<Figure size 432x288 with 1 Axes>"
      ]
     },
     "metadata": {
      "needs_background": "light"
     },
     "output_type": "display_data"
    }
   ],
   "source": [
    "# Randomly selected 50% of the training data (plot d)\n",
    "length = int(train_labels.size/2)\n",
    "x = [i for i in range(train_labels.size)]\n",
    "random_cov_ind = np.random.choice(x, length)\n",
    "random_cov = []\n",
    "for i in range(length):\n",
    "    random_cov.append(train_data[random_cov_ind[i]])\n",
    "random_cov = np.cov(random_cov, rowvar=False)\n",
    "eigval, eigvec = LA.eig(random_cov)\n",
    "norm_eig = eigval.real/LA.norm(eigval)\n",
    "# print (eigval)\n",
    "plt.plot(norm_eig[0:100], 'bx')"
   ]
  },
  {
   "cell_type": "markdown",
   "metadata": {
    "editable": false
   },
   "source": [
    "### 1.3.1 Question 1\n",
    "- Are plots a and b different? Why?\n",
    "- Are plots b and c different? Why?\n",
    "- What are the approximate ranks of each plot?"
   ]
  },
  {
   "cell_type": "markdown",
   "metadata": {},
   "source": [
    "---\n",
    "Your answers here (double click to edit)\n",
    "1. Slightly different. The plots for a and b are similar as data is independently and identically distributed. The small differences arise because we are looking at the plots for 2 different images of numbers, which inadvertently have different covariance matrices and eigen values. \n",
    "\n",
    "2. Yes, because c corresponds to the entire sample set and the general pixel intensities across all classes cannot capture the individual differences in the top 2 or 3 eigenvalues, so needs to be of higher rank. This lack of structure explains why the largest eigenvector in c is smaller than in b.  \n",
    "\n",
    "3. If we consider all eigenvalues above a threshold (0.2):   \n",
    " Plot 1 - rank 4  \n",
    " Plot 2 - rank 5  \n",
    " Plot 3 - rank 6  \n",
    " Plot 4 - rank 6  \n",
    "\n",
    "\n",
    "---"
   ]
  },
  {
   "cell_type": "markdown",
   "metadata": {
    "editable": false
   },
   "source": [
    "### 1.3.1 Question 2\n",
    "- How many possible images could there be?\n",
    "- What percentage is accessible to us as MNIST data?\n",
    "- If we had acces to all the data, how would the eigen value spectrum of the covariance matrix look?"
   ]
  },
  {
   "cell_type": "markdown",
   "metadata": {},
   "source": [
    "---\n",
    "Your answers here (double click to edit)\n",
    "1. 2^784 images (approx. 1.017458e+236) since each of the 784 elements is in {0,1}.\n",
    "2. 7000 out of (2^784) which is approx. 5.897048e-231% (pretty small).\n",
    "3. The eigenspectrum would be a single straight line as the data matrix has a full rank and needs every dimension to accurately capture and project this data.\n",
    "---"
   ]
  },
  {
   "cell_type": "markdown",
   "metadata": {
    "editable": false
   },
   "source": [
    "## 1.3.2 Linear Transformation\n",
    "---\n",
    "### 1.3.2 Question 1\n",
    "How does the eigen spectrum change if the original data was multiplied by an orthonormal matrix? Answer analytically and then also validate experimentally."
   ]
  },
  {
   "cell_type": "markdown",
   "metadata": {},
   "source": [
    "---\n",
    "Analytical answer here (double click to edit) \n",
    "  \n",
    "If the data was multiplied by an orthonormal matrix, it would not change the lengths or angles of the vectors. \n",
    "To prove this, consider a matrix X and its covariance matrix C = $\\frac{1}{N}$\\*$\\sum$ [(X-U)\\*(X-U)$^{T}$]. \n",
    "When an orthonormal matrix A is multiplied to it, X -> AX and mean(X) U -> AU. Hence, C' = $\\frac{1}{N}$\\*$\\sum$ [(AX-AU)\\*(AX-AU)$^{T}$] = $\\frac{1}{N}$\\*$\\sum$ [A*(X-U)*(X-U)$^{T}$*(A)$^T$].  \n",
    "This is similar to C and is only different by a scalar, i.e. C' =  $\\frac{1}{N}$\\*$\\sum$ [A*C*(A)$^T$]\n",
    "\n",
    "\n",
    "---"
   ]
  },
  {
   "cell_type": "code",
   "execution_count": 16,
   "metadata": {},
   "outputs": [
    {
     "data": {
      "text/plain": [
       "[<matplotlib.lines.Line2D at 0x7fd2c7218080>]"
      ]
     },
     "execution_count": 16,
     "metadata": {},
     "output_type": "execute_result"
    },
    {
     "data": {
      "image/png": "[encoded data removed]",
      "text/plain": [
       "<Figure size 432x288 with 1 Axes>"
      ]
     },
     "metadata": {
      "needs_background": "light"
     },
     "output_type": "display_data"
    }
   ],
   "source": [
    "# Experimental validation here.\n",
    "# Multiply your data (train_data) with an orthonormal matrix and plot the\n",
    "# eigen value specturm of the new covariance matrix.\n",
    "# code goes here\n",
    "_,y = train_data.shape\n",
    "a = np.random.randn(y,y)\n",
    "q, r = LA.qr(a, mode='complete')\n",
    "\n",
    "# All training data (plot c)\n",
    "cov_total = np.cov(np.matmul(train_data, q), rowvar=False)\n",
    "eigval, eigvec = LA.eig(cov_total)\n",
    "norm_eig = eigval.real/LA.norm(eigval)\n",
    "plt.plot(norm_eig[0:100],'yx')\n"
   ]
  },
  {
   "cell_type": "markdown",
   "metadata": {
    "editable": false
   },
   "source": [
    "### 1.3.2 Question 2\n",
    "If  samples  were  multiplied  by  784 × 784  matrix  of rank 1 or 2, (rank deficient matrices), how will the eigen spectrum look like?"
   ]
  },
  {
   "cell_type": "markdown",
   "metadata": {},
   "source": [
    "---\n",
    "Your answer here (double click to edit)\n",
    "\n",
    "The eigen spectrum becomes a graph with just one eigen value at 1.0, while the rest becomes 0. There will be atmost one non-zero eigen value.\n",
    "\n",
    "---"
   ]
  },
  {
   "cell_type": "code",
   "execution_count": 17,
   "metadata": {},
   "outputs": [
    {
     "data": {
      "text/plain": [
       "[<matplotlib.lines.Line2D at 0x7fd2c71d05f8>]"
      ]
     },
     "execution_count": 17,
     "metadata": {},
     "output_type": "execute_result"
    },
    {
     "data": {
      "image/png": "[encoded data removed]",
      "text/plain": [
       "<Figure size 432x288 with 1 Axes>"
      ]
     },
     "metadata": {
      "needs_background": "light"
     },
     "output_type": "display_data"
    }
   ],
   "source": [
    "#rank 1 matrix\n",
    "mata = np.ones( (784, 784) )\n",
    "mata[0][0] = 5\n",
    "\n",
    "#rank 2 matrix\n",
    "matb = np.ones( (784, 784) )\n",
    "matb[0][0] = 5\n",
    "matb[1][1] = 6\n",
    "\n",
    "cov_total = np.cov(np.matmul(train_data, matb), rowvar=False)\n",
    "eigval, eigvec = LA.eig(cov_total)\n",
    "norm_eig = eigval.real/LA.norm(eigval)\n",
    "plt.plot(norm_eig[0:100],'yx')"
   ]
  },
  {
   "cell_type": "markdown",
   "metadata": {
    "editable": false
   },
   "source": [
    "### 1.3.2 Question 3\n",
    "Project the original data into the first and second eigenvectors and plot in 2D"
   ]
  },
  {
   "cell_type": "code",
   "execution_count": 18,
   "metadata": {},
   "outputs": [
    {
     "data": {
      "text/plain": [
       "<matplotlib.collections.PathCollection at 0x7fd2c724c828>"
      ]
     },
     "execution_count": 18,
     "metadata": {},
     "output_type": "execute_result"
    },
    {
     "data": {
      "image/png": "[encoded data removed]",
      "text/plain": [
       "<Figure size 432x288 with 1 Axes>"
      ]
     },
     "metadata": {
      "needs_background": "light"
     },
     "output_type": "display_data"
    }
   ],
   "source": [
    "# Plotting code here\n",
    "\n",
    "cov_total = np.cov(train_data, rowvar=False)\n",
    "eigval, eigvec = LA.eig(cov_total)\n",
    "# norm_eig = eigval.real/LA.norm(eigval)\n",
    "eig2 = eigvec[:,0:2]\n",
    "project = np.dot(train_data, eig2)\n",
    "x = project[:,0]\n",
    "y = project[:,1]\n",
    "plt.scatter(x.real,y.real)"
   ]
  },
  {
   "cell_type": "markdown",
   "metadata": {
    "editable": false
   },
   "source": [
    "## 1.3.3 Probabilistic View\n",
    "---\n",
    "In this section you will classify the test set by fitting multivariate gaussians on the train set, with different choices for decision boundaries. On running, your code should print the accuracy on your test set."
   ]
  },
  {
   "cell_type": "code",
   "execution_count": 21,
   "metadata": {},
   "outputs": [
    {
     "name": "stdout",
     "output_type": "stream",
     "text": [
      "Accuracy with MLE: 74.2\n"
     ]
    }
   ],
   "source": [
    "# Print accuracy on the test set using MLE\n",
    "_,y = train_data.shape\n",
    "classes = [0,1,2,3,4,5,6,7,8,9]\n",
    "class_mean = []\n",
    "class_cov = []\n",
    "class_data = [[] for _ in range(10)]\n",
    "class_eigvals = [] \n",
    "\n",
    "def getAccuracy(testSet, predictions, acc):\n",
    "    if testSet == predictions:\n",
    "        acc += 1 \n",
    "    return acc\n",
    "\n",
    "for i in classes:\n",
    "    for j in range(len(train_data)):\n",
    "        if train_labels[j] == i:\n",
    "            class_data[i].append(train_data[j]) \n",
    "            \n",
    "for i in range(10):\n",
    "    class_mean.append(np.mean(class_data[i],0))\n",
    "#     covarr = np.cov(class_data[i], rowvar=False)\n",
    "#     print (meanarr == np.mean(class_data[i],0))\n",
    "\n",
    "    covarr = np.matmul((class_data[i]-np.mean(class_data[i],0)).T, (class_data[i]-np.mean(class_data[i],0)))/600\n",
    "    class_cov.append(LA.pinv(covarr))\n",
    "    eigvals,_ = LA.eig(covarr)\n",
    "    class_eigvals.append(eigvals)\n",
    "#     print (eigvals)\n",
    "acc = 0   \n",
    "for j in range(len(test_data)):\n",
    "    mle = [] \n",
    "    for i in range(10):\n",
    "        det = 0\n",
    "        for k in range(len(class_eigvals[i])):\n",
    "            if class_eigvals[i][k].real > 0 :\n",
    "                det += np.log(class_eigvals[i][k].real)\n",
    "        dim = len(class_mean[i])\n",
    "        res1 = -(1/2) * ((test_data[j]-class_mean[i]).T)@(class_cov[i])@(test_data[j]-class_mean[i])\n",
    "        res2 = - ((dim/2)*np.log(2*np.pi) + (1/2)*(det))\n",
    "        mle.append((res1+res2))\n",
    "\n",
    "    mle_class = np.argmax(mle)\n",
    "    acc = getAccuracy(mle_class, test_labels[j], acc)\n",
    "        \n",
    "print(\"Accuracy with MLE: \" + repr(acc*100/len(test_data)))\n"
   ]
  },
  {
   "cell_type": "code",
   "execution_count": 22,
   "metadata": {},
   "outputs": [
    {
     "name": "stdout",
     "output_type": "stream",
     "text": [
      "Accuracy with MAP: 74.2\n"
     ]
    }
   ],
   "source": [
    "# Print accuracy on the test set using MAP\n",
    "# (assume a reasonable prior and mention it in the comments)\n",
    "\n",
    "#we take prior as 1/10 since there are 10 classes and each class has equal number of samples, which implies \n",
    "#that the prior probability of being in any of those classes is equal\n",
    "\n",
    "prior = 1/10\n",
    "\n",
    "_,y = train_data.shape\n",
    "classes = [0,1,2,3,4,5,6,7,8,9]\n",
    "class_mean = []\n",
    "class_cov = []\n",
    "class_data = [[] for _ in range(10)]\n",
    "class_eigvals = [] \n",
    "\n",
    "def getAccuracy(testSet, predictions, acc):\n",
    "    if testSet == predictions:\n",
    "        acc += 1 \n",
    "    return acc\n",
    "\n",
    "for i in classes:\n",
    "    for j in range(len(train_data)):\n",
    "        if train_labels[j] == i:\n",
    "            class_data[i].append(train_data[j]) \n",
    "            \n",
    "for i in range(10):\n",
    "    class_mean.append(np.mean(class_data[i],0))\n",
    "    covarr = np.matmul((class_data[i]-np.mean(class_data[i],0)).T, (class_data[i]-np.mean(class_data[i],0)))/600\n",
    "    class_cov.append(LA.pinv(covarr))\n",
    "    eigvals,_ = LA.eig(covarr)\n",
    "    class_eigvals.append(eigvals)\n",
    "#     print (eigvals)\n",
    "acc = 0   \n",
    "for j in range(len(test_data)):\n",
    "    mle = [] \n",
    "    for i in range(10):\n",
    "        det = 0\n",
    "        for k in range(len(class_eigvals[i])):\n",
    "            if class_eigvals[i][k].real > 0 :\n",
    "                det += np.log(class_eigvals[i][k].real)\n",
    "        dim = len(class_mean[i])\n",
    "        res1 = -(1/2) * ((test_data[j]-class_mean[i]).T)@(class_cov[i])@(test_data[j]-class_mean[i])\n",
    "        res2 = - ((dim/2)*np.log(2*np.pi) + (1/2)*(det))\n",
    "        mle.append((res1+res2) * prior)\n",
    "\n",
    "    mle_class = np.argmax(mle)\n",
    "    acc = getAccuracy(mle_class, test_labels[j], acc)\n",
    "        \n",
    "print(\"Accuracy with MAP: \" + repr(acc*100/len(test_data)))\n"
   ]
  },
  {
   "cell_type": "code",
   "execution_count": 24,
   "metadata": {},
   "outputs": [
    {
     "name": "stdout",
     "output_type": "stream",
     "text": [
      "83.8\n"
     ]
    }
   ],
   "source": [
    "# Print accuracy using Bayesian pairwise majority voting method\n",
    "_,y = train_data.shape\n",
    "classes = [0,1,2,3,4,5,6,7,8,9]\n",
    "class_mean = []\n",
    "class_cov = []\n",
    "class_inv = []\n",
    "class_data = [[] for _ in range(10)]\n",
    "class_eigvals = [] \n",
    "test_prob = np.zeros((1000,10))\n",
    "pairs = []\n",
    "\n",
    "def getAccuracy(predicted, labels):\n",
    "    acc = 0\n",
    "    for i in range(1000):\n",
    "        if np.argmax(predicted[i]) == test_labels[i]:\n",
    "            acc += 1 \n",
    "    acc = acc*100/len(labels)\n",
    "    return acc\n",
    "\n",
    "for i in classes:\n",
    "    for j in range(len(train_data)):\n",
    "        if train_labels[j] == i:\n",
    "            class_data[i].append(train_data[j])\n",
    "for i in classes:\n",
    "    for j in range(i+1, len(classes)):\n",
    "        if i != classes[j]:\n",
    "            pairs.append([i,classes[j]])\n",
    "    m = np.mean(class_data[i],0)\n",
    "    class_mean.append(m)\n",
    "    class_cov.append(np.matmul((class_data[i]-m).T, (class_data[i]-m))/600 )\n",
    "            \n",
    "for i in range(len(pairs)):\n",
    "    a = pairs[i][0]\n",
    "    b = pairs[i][1]\n",
    "    currcov = (class_cov[a] + class_cov[b])/2\n",
    "    class_inv.append(LA.pinv(currcov))\n",
    "    eigvals,_ = LA.eig(covarr)\n",
    "    class_eigvals.append(eigvals)\n",
    "\n",
    "    for j in range(len(test_data)):\n",
    "        bay = []       \n",
    "        for x in range(2):\n",
    "            det = 0\n",
    "            inv = class_inv[i]\n",
    "            evals = class_eigvals[i]\n",
    "            for k in range(len(evals)):\n",
    "                if evals[k].real > 0 :\n",
    "                    det += np.log(evals[k].real)\n",
    "            if x == 0:\n",
    "                m = class_mean[a]\n",
    "            else:\n",
    "                m = class_mean[b]\n",
    "            dim = len(m)\n",
    "            res1 = -(1/2) * ((test_data[j]-m).T)@(inv)@(test_data[j]-m)\n",
    "            res2 = - ((dim/2)*np.log(2*np.pi) + (1/2)*(det))\n",
    "            bay.append((res1+res2))\n",
    "        if bay[0]>bay[1]:\n",
    "            test_prob[j][a] += 1\n",
    "        else:\n",
    "            test_prob[j][b] += 1\n",
    "\n",
    "print (getAccuracy(test_prob, test_labels))\n",
    "    \n",
    "            "
   ]
  },
  {
   "cell_type": "code",
   "execution_count": 26,
   "metadata": {},
   "outputs": [
    {
     "name": "stdout",
     "output_type": "stream",
     "text": [
      "77.0\n"
     ]
    }
   ],
   "source": [
    "# Print accuracy using Simple Perpendicular Bisector majority voting method\n",
    "\n",
    "_,y = train_data.shape\n",
    "classes = [0,1,2,3,4,5,6,7,8,9]\n",
    "class_mean = []\n",
    "class_cov = []\n",
    "class_inv = []\n",
    "class_data = [[] for _ in range(10)]\n",
    "class_eigvals = [] \n",
    "test_prob = np.zeros((1000,10))\n",
    "pairs = []\n",
    "\n",
    "def getAccuracy(predicted, labels):\n",
    "    acc = 0\n",
    "    for i in range(1000):\n",
    "        if np.argmax(predicted[i]) == test_labels[i]:\n",
    "            acc += 1 \n",
    "    acc = acc*100/len(labels)\n",
    "    return acc\n",
    "\n",
    "for i in classes:\n",
    "    for j in range(len(train_data)):\n",
    "        if train_labels[j] == i:\n",
    "            class_data[i].append(train_data[j])\n",
    "for i in classes:\n",
    "    for j in range(i+1, len(classes)):\n",
    "        if i != classes[j]:\n",
    "            pairs.append([i,classes[j]])\n",
    "    m = np.mean(class_data[i],0)\n",
    "    class_mean.append(m)\n",
    "\n",
    "\n",
    "for i in range(len(pairs)):\n",
    "    a = pairs[i][0]\n",
    "    b = pairs[i][1]\n",
    "\n",
    "    for j in range(len(test_data)):\n",
    "        perp = []       \n",
    "        for x in range(2):\n",
    "            if x == 0:\n",
    "                m = class_mean[a]\n",
    "            else:\n",
    "                m = class_mean[b]\n",
    "            dist = LA.norm(test_data[j] - m)\n",
    "            perp.append(dist)\n",
    "        if perp[0] < perp[1]:\n",
    "            test_prob[j][a] += 1\n",
    "        else:\n",
    "            test_prob[j][b] += 1\n",
    "\n",
    "print (getAccuracy(test_prob, test_labels))\n",
    "    \n",
    "            \n"
   ]
  },
  {
   "cell_type": "markdown",
   "metadata": {
    "editable": false
   },
   "source": [
    "### 1.3.3 Question 4\n",
    "Compare performances and salient observations"
   ]
  },
  {
   "cell_type": "markdown",
   "metadata": {},
   "source": [
    "---\n",
    "Your analysis here (double click to edit)\n",
    "---\n",
    "1. MLE : 73.2\n",
    "2. MAP : 73.2\n",
    "3. Bayesian pairwise majority voting method : 83.8\n",
    "4. Simple Perpendicular Bisector majority voting method : 77.0  \n",
    "\n",
    "We notice that the highest accuracy comes while using the Bayesian pairwise combinatorial method, as this takes into consideration the covariance matrices of the classes for computuing the Gaussian multivariate probability distribution, unlike the Perpendicular Bisector method, which only uses norm.  However, Bayesian method is much slower (order of minutes) while MAP and MLE take a few seconds to finish computing.  The accuracies for MAP and MLE are equal because the prior probability for each class in MAP are equally distributed since the number of samples in each are equal."
   ]
  },
  {
   "cell_type": "markdown",
   "metadata": {
    "editable": false
   },
   "source": [
    "## 1.3.4 Nearest Neighbour based Tasks and Design\n",
    "---\n",
    "### 1.3.4 Question 1 : NN Classification with various K\n",
    "Implement a KNN classifier and print accuracies on the test set with K=1,3,7"
   ]
  },
  {
   "cell_type": "code",
   "execution_count": 27,
   "metadata": {},
   "outputs": [
    {
     "name": "stdout",
     "output_type": "stream",
     "text": [
      "Accuracy: 90.7% when k = 1\n",
      "Accuracy: 92.2% when k = 3\n",
      "Accuracy: 92.4% when k = 5\n",
      "Accuracy: 91.7% when k = 7\n"
     ]
    }
   ],
   "source": [
    "# Your code here\n",
    "\n",
    "def getAccuracy(testSet, predictions):\n",
    "    correct = 0\n",
    "    for i in range(len(testSet)):\n",
    "#         print (i)\n",
    "        if testSet[i] == int(predictions[i]):\n",
    "            correct += 1\n",
    "    return (correct/float(len(testSet))) * 100.0\n",
    "\n",
    "import operator\n",
    "from collections import Counter\n",
    "\n",
    "def euclideanDistance(x1, x2):\n",
    "    distance = 0\n",
    "    length = len(x2)\n",
    "    for i in range(length):\n",
    "        distance += (x1[i] - x2[i]) * (x1[i] - x2[i]).T\n",
    "    return np.sqrt(distance)\n",
    "\n",
    "def getNeighbors(trainingSet, trainingLabels, testSet, testLabels, k):\n",
    "    predict = []\n",
    "    for i in range(len(k)):\n",
    "        x = []\n",
    "        for j in range(len(testSet)):\n",
    "            x.append(0)\n",
    "        predict.append(x)  \n",
    "    \n",
    "    for i in range(len(testSet)):\n",
    "        distances = []\n",
    "        for j in range(len(trainingSet)):\n",
    "#             dist = euclideanDistance(testSet[i], trainingSet[j])\n",
    "            dist = LA.norm(testSet[i] - trainingSet[j],2)\n",
    "            distances.append((trainingLabels[j], dist))\n",
    "        distances.sort(key=operator.itemgetter(1))\n",
    "        maxneighbors = []\n",
    "        maxk = max(k)\n",
    "        for x in range(maxk):\n",
    "            maxneighbors.append(distances[x][0])\n",
    "#         try:\n",
    "#             print (mode(neighbors))\n",
    "#             predict.append(mode(neighbors))\n",
    "#         except StatisticsError as err:\n",
    "        \n",
    "        for x in range(len(k)):\n",
    "            neighbors = []\n",
    "            for y in range(k[x]):\n",
    "                neighbors.append(maxneighbors[y])\n",
    "            predict[x][i] = (Counter(neighbors).most_common()[0][0])\n",
    "            \n",
    "    for i in range(len(k)):\n",
    "        accuracy = getAccuracy(testLabels, predict[i])\n",
    "        print('Accuracy: ' + repr(accuracy) + '% when k = ' + str(k[i]))\n",
    "\n",
    "trainingSet = train_data\n",
    "trainingLabels = train_labels\n",
    "testSet = test_data\n",
    "testLabels = test_labels\n",
    "karr = [1,3,5,7]\n",
    "predLabels = getNeighbors(trainingSet, trainingLabels, testSet, testLabels, karr)\n",
    "        "
   ]
  },
  {
   "cell_type": "markdown",
   "metadata": {
    "editable": false
   },
   "source": [
    "### 1.3.4 Question 1 continued\n",
    "- Why / why not are the accuracies the same?\n",
    "- How do we identify the best K? Suggest a computational procedure with a logical explanation."
   ]
  },
  {
   "cell_type": "markdown",
   "metadata": {},
   "source": [
    "---\n",
    "Your analysis here (double click to edit)\n",
    "\n",
    "- Accuracy: 90.7% when k = 1\n",
    "- Accuracy: 92.2% when k = 3\n",
    "- Accuracy: 92.4% when k = 5\n",
    "- Accuracy: 91.7% when k = 7\n",
    "\n",
    "1. Accuracies are almost the same.\n",
    "2. For a very low value of k (suppose k=1), the model overfits on the training data, which leads to a high error rate on the testing set. On the other hand, for a high value of k, the model performs poorly on both training and testing set. error is minimum and accuracy is maximum around k = 5 and is the optimum value of the model.\n",
    "\n",
    "---"
   ]
  },
  {
   "cell_type": "markdown",
   "metadata": {
    "editable": false
   },
   "source": [
    "### 1.3.4 Question 2 :  Reverse NN based outlier detection\n",
    "A sample can be thought of as an outlier is it is NOT in the nearest neighbour set of anybody else. Expand this idea into an algorithm."
   ]
  },
  {
   "cell_type": "code",
   "execution_count": 28,
   "metadata": {
    "editable": false,
    "scrolled": true
   },
   "outputs": [
    {
     "name": "stdout",
     "output_type": "stream",
     "text": [
      "(20, 784)\n"
     ]
    }
   ],
   "source": [
    "# This cell reads mixed data containing both MNIST digits and English characters.\n",
    "# The labels for this mixed data are random and are hence ignored.\n",
    "mixed_data, _ = read_data(\"outliers.csv\")\n",
    "print(mixed_data.shape)"
   ]
  },
  {
   "cell_type": "code",
   "execution_count": 29,
   "metadata": {},
   "outputs": [],
   "source": [
    "def getOutliers(trainingSet, testSet, k, moreData):\n",
    "    hashmap = [0 for i in range(len(trainingSet))]\n",
    "#     print (len(trainingSet))\n",
    "    offset = len(moreData)\n",
    "#     print (offset)\n",
    "    \n",
    "    for i in range(len(testSet)):\n",
    "        distances = []\n",
    "        for j in range(len(trainingSet)):\n",
    "#             dist = euclideanDistance(testSet[i], trainingSet[j])\n",
    "            dist = LA.norm(testSet[i] - trainingSet[j])\n",
    "            distances.append((j + offset, dist))\n",
    "        for j in range(len(moreData)):\n",
    "#             dist = euclideanDistance(testSet[i], moreData[j])\n",
    "            dist = LA.norm(testSet[i] - moreData[j])\n",
    "            distances.append((j, dist))\n",
    "            \n",
    "        distances.sort(key=operator.itemgetter(1))\n",
    "        neighbors = []\n",
    "        for x in range(k):\n",
    "            p = distances[x][0]\n",
    "            if p >= offset:\n",
    "                hashmap[p-offset] = 1\n",
    "    for i in range(len(trainingSet)):\n",
    "        if hashmap[i] == 0:\n",
    "            print (i)\n",
    "        \n",
    "    "
   ]
  },
  {
   "cell_type": "code",
   "execution_count": 30,
   "metadata": {},
   "outputs": [
    {
     "name": "stdout",
     "output_type": "stream",
     "text": [
      "starting\n",
      "20\n",
      "6000\n",
      "0\n",
      "4\n",
      "6\n",
      "9\n",
      "18\n"
     ]
    }
   ],
   "source": [
    "trainingSet = mixed_data\n",
    "testSet = train_data\n",
    "k = 15\n",
    "# print (\"starting\")\n",
    "getOutliers(trainingSet, testSet, k, train_data)"
   ]
  },
  {
   "cell_type": "markdown",
   "metadata": {},
   "source": [
    "At k = 15, outliers are 0, 4, 6, 9 and 18.  \n",
    "Algorithm: We loop through all the training samples, finding and comparing the distances to the set containing traning samples and outlier samples. We construct a nearest neighbour list for each training sample for a suitable k (here, k = 15) and check of there exist any samples from the outliers that have not appeared even once in any of the neighbour sets."
   ]
  },
  {
   "cell_type": "markdown",
   "metadata": {
    "editable": false
   },
   "source": [
    "### 1.3.4 Question 3 : NN for regression\n",
    "Assume that each classID in the train set corresponds to a neatness score as:\n",
    "$$ neatness = \\frac{classID}{10} $$\n",
    "\n",
    "---\n",
    "Assume we had to predict the neatness score for each test sample using NN based techiniques on the train set. Describe the algorithm."
   ]
  },
  {
   "cell_type": "markdown",
   "metadata": {},
   "source": [
    "---\n",
    "Your algorithm here (double click to edit)  \n",
    "---\n",
    "\n",
    "We proceed similar to the k-nearest neighbours algorithm and construct a neighbors set for each sample. In this case, instead of finding the maximum occurring class label, we find the average label. For each sample, we calculate absolute error as the difference between the average label and the ground truth test label. We sum all errors and divide by the number of samples. To map this to a neatness score, we divide it by 10."
   ]
  },
  {
   "cell_type": "markdown",
   "metadata": {
    "editable": false
   },
   "source": [
    "### 1.3.4 Question 3 continued\n",
    "Validate your algorithm on the test set. This code should print mean absolute error on the test set, using the train set for NN based regression."
   ]
  },
  {
   "cell_type": "code",
   "execution_count": 31,
   "metadata": {},
   "outputs": [
    {
     "name": "stdout",
     "output_type": "stream",
     "text": [
      "0.037733333333333355\n"
     ]
    }
   ],
   "source": [
    "# Your code here\n",
    "def getSomething(trainingSet, trainingLabels, testSet, testLabels, k): \n",
    "    error = 0\n",
    "    for i in range(len(testSet)):\n",
    "        distances = []\n",
    "        neatness = testLabels[i]/10\n",
    "        for j in range(len(trainingSet)):\n",
    "            dist = LA.norm(testSet[i] - trainingSet[j])\n",
    "            distances.append((trainingLabels[j], dist))    \n",
    "        distances.sort(key=operator.itemgetter(1))\n",
    "        neighbors = []\n",
    "        tot_lab = 0\n",
    "        for x in range(k):\n",
    "            tot_lab += distances[x][0]\n",
    "            neighbors.append(distances[x])\n",
    "        avg = tot_lab/k\n",
    "        error += abs(avg-testLabels[i])      \n",
    "    return (error/len(testSet)/10)\n",
    "\n",
    "k=3\n",
    "err = getSomething(train_data, train_labels, test_data, test_labels,k)\n",
    "print (err)     \n",
    "   "
   ]
  },
  {
   "cell_type": "markdown",
   "metadata": {},
   "source": [
    "Error: 0.037733333333333355"
   ]
  },
  {
   "cell_type": "markdown",
   "metadata": {
    "editable": false
   },
   "source": [
    "---\n",
    "# FOLLOW THE SUBMISSION INSTRUCTIONS\n",
    "---"
   ]
  }
 ],
 "metadata": {
  "kernelspec": {
   "display_name": "Python 3",
   "language": "python",
   "name": "python3"
  },
  "language_info": {
   "codemirror_mode": {
    "name": "ipython",
    "version": 3
   },
   "file_extension": ".py",
   "mimetype": "text/x-python",
   "name": "python",
   "nbconvert_exporter": "python",
   "pygments_lexer": "ipython3",
   "version": "3.5.2"
  }
 },
 "nbformat": 4,
 "nbformat_minor": 2
}
